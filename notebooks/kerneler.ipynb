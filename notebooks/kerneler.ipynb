{
 "cells": [
  {
   "cell_type": "markdown",
   "metadata": {
    "_cell_guid": "79c7e3d0-c299-4dcb-8224-4455121ee9b0",
    "_uuid": "d629ff2d2480ee46fbb7e2d37f6b5fab8052498a",
    "collapsed": true
   },
   "source": [
    "## 手法について"
   ]
  },
  {
   "cell_type": "markdown",
   "metadata": {},
   "source": [
    "- QDA(Quadratic Discriminant Analysis)が良い。\n",
    "    - 学習データが、n次元正規分布でうまくフィッティングできているから。計算も非常に高速。\n",
    "    - 判別境界が２次関数だからうまくいっている？（tree系と違って境界が滑らかとなるため）\n",
    "    - ロジ回帰に2次の項を追加することとほぼ同じだろう。  polynomical kernalを使ったSVMもうまく機能している（nyanp）\n",
    "https://www.kaggle.com/c/instant-gratification/discussion/93814\n",
    "- QDA not a winnig algorithm  \n",
    "    - QDAなしでLB0.974+（CPMP）  \n",
    "    - QDAは各クラスタを多変量正規分布で近似するだけ。ハイパラは少ないが、その他の要素（外生変数）は使えない。\n",
    "https://www.kaggle.com/c/instant-gratification/discussion/94894#latest-552207\n",
    "- Pseudo Labelingがよく効く\n",
    "    - 高い確信度のtestデータにラベルを振ると精度が高くなる。このコンペではsubmitすると裏でprivate dataでの計算が走るため、privateデータを使ったpseudo labeingが可能。   \n",
    "https://www.kaggle.com/nroman/i-m-overfitting-and-i-know-it\n",
    "    - QDA + Pseudo Labeingが良いのは、フィッティング精度が高くなるからだろう（各クラスタの平均と分散共分散行列）  \n",
    "https://www.kaggle.com/cdeotte/pseudo-labeling-qda-0-969"
   ]
  },
  {
   "cell_type": "markdown",
   "metadata": {},
   "source": [
    "## データセットについて"
   ]
  },
  {
   "cell_type": "markdown",
   "metadata": {},
   "source": [
    "- wheezy-copper-turtle-magicはカテゴリカル変数（512個）  \n",
    "https://www.kaggle.com/c/instant-gratification/discussion/92587\n",
    "- 計512個のデータセットは、同等の生成過程である可能性が高い。  \n",
    "https://www.kaggle.com/c/instant-gratification/discussion/93814"
   ]
  },
  {
   "cell_type": "markdown",
   "metadata": {},
   "source": [
    "## カラム名について"
   ]
  },
  {
   "cell_type": "markdown",
   "metadata": {},
   "source": [
    "- カラム名をsplitして集計（muggy-smalt-axolotl-pembus ⇒ muggy, smalt, axolotl, pembus）  \n",
    "https://www.kaggle.com/donariumdebbie/explore-funny-column-names\n",
    "- （メモ）このデータセット生成を解説したkernel見れば、名前の意図がわかりそう  \n",
    "https://www.kaggle.com/mhviraf/synthetic-data-for-next-instant-gratification"
   ]
  }
 ],
 "metadata": {
  "kernelspec": {
   "display_name": "Python 3",
   "language": "python",
   "name": "python3"
  },
  "language_info": {
   "codemirror_mode": {
    "name": "ipython",
    "version": 3
   },
   "file_extension": ".py",
   "mimetype": "text/x-python",
   "name": "python",
   "nbconvert_exporter": "python",
   "pygments_lexer": "ipython3",
   "version": "3.6.6"
  }
 },
 "nbformat": 4,
 "nbformat_minor": 1
}
