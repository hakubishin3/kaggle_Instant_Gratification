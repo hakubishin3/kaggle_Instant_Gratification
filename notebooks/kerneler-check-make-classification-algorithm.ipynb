{
 "cells": [
  {
   "cell_type": "code",
   "execution_count": 1,
   "metadata": {
    "_cell_guid": "79c7e3d0-c299-4dcb-8224-4455121ee9b0",
    "_uuid": "d629ff2d2480ee46fbb7e2d37f6b5fab8052498a"
   },
   "outputs": [],
   "source": [
    "import numpy as np\n",
    "import matplotlib.pyplot as plt\n",
    "from sklearn.datasets import make_classification\n",
    "from sklearn.datasets.samples_generator import _generate_hypercube\n",
    "from sklearn.utils import check_random_state\n",
    "from sklearn.utils import shuffle as util_shuffle"
   ]
  },
  {
   "cell_type": "markdown",
   "metadata": {},
   "source": [
    "sklearn's make_classification  \n",
    "https://github.com/scikit-learn/scikit-learn/blob/7813f7efb/sklearn/datasets/samples_generator.py#L36  \n",
    "素晴らしい解説サイト  \n",
    "http://overlap.hatenablog.jp/entry/2015/10/08/022246"
   ]
  },
  {
   "cell_type": "markdown",
   "metadata": {},
   "source": [
    "Parameters\n",
    "----------\n",
    "- n_samples: サンプル数\n",
    "- n_features: 特徴量数。n_features >= n_informative + n_redundant + n_repeated\n",
    "- n_informative: クラスタ頂点位置を中心として生成される多変量正規分布の次元数（特徴量数）\n",
    "- n_redundant: informative特徴量の線形結合から生成される特徴量の数\n",
    "- n_repeated: informative特徴量、redundant特徴量のコピーからなる特徴量の数\n",
    "- n_classes: クラス数（本コンペでは2）\n",
    "- n_clusters_per_class: 1クラスあたりのクラスタ数\n",
    "- weights: 各クラスのサンプル数の比率（本コンペではNone）\n",
    "- class_sep: 各クラスタの頂点位置の距離\n",
    "- hypercube: Trueにすると、超立方体(hypercube)の頂点にクラスタを配置する。Falseにするとrandom polytope(わからん)の頂点にクラスタが配置される。\n",
    "- shift: 全ての特徴量に対するシフト量\n",
    "- scale: 全ての特徴量に対するスケーリングの割合\n",
    "- flip_y: フリップの割合\n",
    "- shuffle: Trueにすると行と列がシャッフルされる"
   ]
  },
  {
   "cell_type": "code",
   "execution_count": 2,
   "metadata": {},
   "outputs": [
    {
     "name": "stdout",
     "output_type": "stream",
     "text": [
      "(3000, 2) (3000,)\n"
     ]
    }
   ],
   "source": [
    "x, y = make_classification(\n",
    "    n_samples=3000, n_features=2, n_classes=2,\n",
    "    n_informative=2, n_redundant=0, n_repeated=0,\n",
    "    class_sep=4, shuffle=False, flip_y=0.05,\n",
    "    scale=1, shift=0, hypercube=True, weights=None,\n",
    "    n_clusters_per_class=2\n",
    ")\n",
    "print(x.shape, y.shape)"
   ]
  },
  {
   "cell_type": "code",
   "execution_count": 3,
   "metadata": {},
   "outputs": [
    {
     "data": {
      "image/png": "[encoded data removed]",
      "text/plain": [
       "<Figure size 432x288 with 1 Axes>"
      ]
     },
     "metadata": {},
     "output_type": "display_data"
    }
   ],
   "source": [
    "plt.scatter(x[:, 0], x[:, 1], c=y)\n",
    "plt.show()"
   ]
  },
  {
   "cell_type": "markdown",
   "metadata": {},
   "source": [
    "## 以下、実装の内容を追跡"
   ]
  },
  {
   "cell_type": "markdown",
   "metadata": {},
   "source": [
    "パラメータ値"
   ]
  },
  {
   "cell_type": "code",
   "execution_count": 4,
   "metadata": {},
   "outputs": [],
   "source": [
    "n_samples = 100\n",
    "n_features = 20\n",
    "n_informative = 2\n",
    "n_redundant = 2\n",
    "n_repeated = 1\n",
    "n_classes = 2\n",
    "n_clusters_per_class = 2\n",
    "weights = None\n",
    "random_state = 71\n",
    "class_sep = 1\n",
    "hypercube = True\n",
    "flip_y = 0.05\n",
    "shift = 0.0\n",
    "scale = 1.0\n",
    "shuffle = False"
   ]
  },
  {
   "cell_type": "markdown",
   "metadata": {},
   "source": [
    "generatorの作成  \n",
    "- np.random.RandomState\n",
    "https://docs.scipy.org/doc/numpy/reference/generated/numpy.random.RandomState.html"
   ]
  },
  {
   "cell_type": "code",
   "execution_count": 5,
   "metadata": {},
   "outputs": [
    {
     "name": "stdout",
     "output_type": "stream",
     "text": [
      "<class 'mtrand.RandomState'>\n",
      "[-0.43060315 -1.19392809 -0.44429899  0.48941221 -0.45155715  0.58569596\n",
      "  1.17731982 -0.96500906  0.21827791 -0.86614368]\n"
     ]
    }
   ],
   "source": [
    "generator = check_random_state(random_state)\n",
    "print(type(generator))\n",
    "print(generator.randn(10))"
   ]
  },
  {
   "cell_type": "markdown",
   "metadata": {},
   "source": [
    "パラメータ算出\n",
    "- n_useless: 余りの特徴量数。後ほど、この数だけ乱数を生成して特徴量に加える（ノイズ）\n",
    "- n_clusters: クラスタの総数"
   ]
  },
  {
   "cell_type": "code",
   "execution_count": 6,
   "metadata": {},
   "outputs": [
    {
     "name": "stdout",
     "output_type": "stream",
     "text": [
      "15 4\n"
     ]
    }
   ],
   "source": [
    "n_useless = n_features - n_informative - n_redundant - n_repeated\n",
    "n_clusters = n_classes * n_clusters_per_class\n",
    "print(n_useless, n_clusters)"
   ]
  },
  {
   "cell_type": "markdown",
   "metadata": {},
   "source": [
    "クラスの比率を決める。\n",
    "- n_classes=2でweights=Noneならば、0と1が50%ずつ\n",
    "- n_classes=2で[0.9, 0.1]と与えると、0が90%, 1が10%となる"
   ]
  },
  {
   "cell_type": "code",
   "execution_count": 7,
   "metadata": {},
   "outputs": [
    {
     "name": "stdout",
     "output_type": "stream",
     "text": [
      "[0.5, 0.5]\n"
     ]
    }
   ],
   "source": [
    "if weights and len(weights) == (n_classes - 1):\n",
    "    weights = weights + [1.0 - sum(weights)]\n",
    "\n",
    "if weights is None:\n",
    "    weights = [1.0 / n_classes] * n_classes\n",
    "    weights[-1] = 1.0 - sum(weights[:-1])\n",
    "\n",
    "print(weights)"
   ]
  },
  {
   "cell_type": "markdown",
   "metadata": {},
   "source": [
    "各クラスタに属するサンプル数を決める\n",
    "- 上記のweightsでn_sampleを各クラスタに配分する\n",
    "- n_samples=100でn_clusters=4, weights=[0.5, 0.5]なら、[25, 25, 25, 25]でサンプルが分配される"
   ]
  },
  {
   "cell_type": "code",
   "execution_count": 8,
   "metadata": {},
   "outputs": [
    {
     "name": "stdout",
     "output_type": "stream",
     "text": [
      "[25, 25, 25, 25]\n"
     ]
    }
   ],
   "source": [
    "# Distribute samples among clusters by weight\n",
    "n_samples_per_cluster = [\n",
    "    int(n_samples * weights[k % n_classes] / n_clusters_per_class)\n",
    "    for k in range(n_clusters)]\n",
    "\n",
    "for i in range(n_samples - sum(n_samples_per_cluster)):\n",
    "    n_samples_per_cluster[i % n_clusters] += 1\n",
    "\n",
    "print(n_samples_per_cluster)"
   ]
  },
  {
   "cell_type": "markdown",
   "metadata": {},
   "source": [
    "説明変数、目的変数の初期化"
   ]
  },
  {
   "cell_type": "code",
   "execution_count": 9,
   "metadata": {},
   "outputs": [
    {
     "name": "stdout",
     "output_type": "stream",
     "text": [
      "(100, 20) (100,)\n"
     ]
    }
   ],
   "source": [
    "# Initialize X and y\n",
    "X = np.zeros((n_samples, n_features))\n",
    "y = np.zeros(n_samples, dtype=np.int)\n",
    "print(X.shape, y.shape)"
   ]
  },
  {
   "cell_type": "markdown",
   "metadata": {},
   "source": [
    "クラスタの頂点位置を決める\n",
    "- n_informative次元で、各クラスタの頂点位置を決める。 shape=(n_clusters, n_informative)\n",
    "- 各頂点位置が±class_sepの距離になるよう修正する。"
   ]
  },
  {
   "cell_type": "code",
   "execution_count": 10,
   "metadata": {},
   "outputs": [
    {
     "name": "stdout",
     "output_type": "stream",
     "text": [
      "[[0. 0.]\n",
      " [0. 1.]\n",
      " [1. 0.]\n",
      " [1. 1.]]\n",
      "[[-1. -1.]\n",
      " [-1.  1.]\n",
      " [ 1. -1.]\n",
      " [ 1.  1.]]\n",
      "(4, 2)\n"
     ]
    }
   ],
   "source": [
    "# Build the polytope whose vertices become cluster centroids\n",
    "centroids = _generate_hypercube(n_clusters, n_informative, generator).astype(float, copy=False)\n",
    "print(centroids)\n",
    "\n",
    "centroids *= 2 * class_sep\n",
    "centroids -= class_sep\n",
    "print(centroids)\n",
    "print(centroids.shape)\n",
    "\n",
    "if not hypercube:\n",
    "    centroids *= generator.rand(n_clusters, 1)\n",
    "    centroids *= generator.rand(1, n_informative)"
   ]
  },
  {
   "cell_type": "markdown",
   "metadata": {},
   "source": [
    "informative特徴量の作成\n",
    "- 始めにN(0, 1)に従う乱数を生成する。shape=(n_samples, n_informative)\n",
    "- 各クラスタ頂点位置毎にループする。\n",
    "    - 各クラスタに割り振られたサンプルの数だけ、informative特徴量を切り出す （X_k）\n",
    "    - informative特徴量に対して、[-1, 1]の一様分布から生成された行列をかけることで、informative特徴量間の相関を高くする（共分散を与える）\n",
    "    - informative特徴量の平均値をクラスタ頂点位置にシフトさせる"
   ]
  },
  {
   "cell_type": "code",
   "execution_count": 11,
   "metadata": {},
   "outputs": [
    {
     "name": "stdout",
     "output_type": "stream",
     "text": [
      "0 [-1. -1.] 25\n",
      "-0.2449412636660611\n",
      "0.18868627481550224\n",
      "[-1.0011703  -1.05908435] \n",
      "\n",
      "1 [-1.  1.] 25\n",
      "0.19078344197519187\n",
      "0.3883152663326104\n",
      "[-1.15423056  0.99173401] \n",
      "\n",
      "2 [ 1. -1.] 25\n",
      "-0.24133472284922416\n",
      "0.5648671258624557\n",
      "[ 1.0865841  -0.97787982] \n",
      "\n",
      "3 [1. 1.] 25\n",
      "0.1978961724781675\n",
      "-0.9552196421296113\n",
      "[0.9597106  1.08313719] \n",
      "\n"
     ]
    }
   ],
   "source": [
    "# Initially draw informative features from the standard normal\n",
    "X[:, :n_informative] = generator.randn(n_samples, n_informative)\n",
    "\n",
    "# Create each cluster; a variant of make_blobs\n",
    "stop = 0\n",
    "for k, centroid in enumerate(centroids):\n",
    "    start, stop = stop, stop + n_samples_per_cluster[k]\n",
    "    print(k, centroid, n_samples_per_cluster[k])\n",
    "\n",
    "    y[start:stop] = k % n_classes  # assign labels\n",
    "    X_k = X[start:stop, :n_informative]  # slice a view of the cluster\n",
    "    print(np.corrcoef(X_k[:, 0], X_k[:, 1])[0, 1])\n",
    "\n",
    "    A = 2 * generator.rand(n_informative, n_informative) - 1\n",
    "    X_k[...] = np.dot(X_k, A)  # introduce random covariance\n",
    "    print(np.corrcoef(X_k[:, 0], X_k[:, 1])[0, 1])\n",
    "\n",
    "    X_k += centroid  # shift the cluster to a vertex\n",
    "    print(X_k.mean(axis=0), \"\\n\")"
   ]
  },
  {
   "cell_type": "markdown",
   "metadata": {},
   "source": [
    "redundant特徴量の作成\n",
    "- informative特徴量に対して、[-1, 1]の一様分布から生成された行列をかけることで、redundant特徴量を作成する"
   ]
  },
  {
   "cell_type": "code",
   "execution_count": 12,
   "metadata": {},
   "outputs": [],
   "source": [
    "# Create redundant features\n",
    "if n_redundant > 0:\n",
    "    B = 2 * generator.rand(n_informative, n_redundant) - 1\n",
    "    X[:, n_informative:n_informative + n_redundant] = \\\n",
    "        np.dot(X[:, :n_informative], B)"
   ]
  },
  {
   "cell_type": "markdown",
   "metadata": {},
   "source": [
    "repeated特徴量の作成\n",
    "- informative特徴量とredundant特徴量からランダムに選択する。"
   ]
  },
  {
   "cell_type": "code",
   "execution_count": 13,
   "metadata": {},
   "outputs": [],
   "source": [
    "# Repeat some features\n",
    "if n_repeated > 0:\n",
    "    n = n_informative + n_redundant\n",
    "    indices = ((n - 1) * generator.rand(n_repeated) + 0.5).astype(np.intp)\n",
    "    X[:, n:n + n_repeated] = X[:, indices]"
   ]
  },
  {
   "cell_type": "markdown",
   "metadata": {},
   "source": [
    "useless特徴量の作成\n",
    "- 余った分の特徴量を作成する。N(0, 1)分布から乱数を生成する。"
   ]
  },
  {
   "cell_type": "code",
   "execution_count": 14,
   "metadata": {},
   "outputs": [],
   "source": [
    "# Fill useless features\n",
    "if n_useless > 0:\n",
    "    X[:, -n_useless:] = generator.randn(n_samples, n_useless)"
   ]
  },
  {
   "cell_type": "markdown",
   "metadata": {},
   "source": [
    "flipする\n",
    "- ラベルをflip_yに比率に応じてランダムにflipする。"
   ]
  },
  {
   "cell_type": "code",
   "execution_count": 15,
   "metadata": {},
   "outputs": [],
   "source": [
    "# Randomly replace labels\n",
    "if flip_y >= 0.0:\n",
    "    flip_mask = generator.rand(n_samples) < flip_y\n",
    "    y[flip_mask] = generator.randint(n_classes, size=flip_mask.sum())"
   ]
  },
  {
   "cell_type": "markdown",
   "metadata": {},
   "source": [
    "特徴量に対してshiftとscaleを実行する\n",
    "- すべての特徴量にshift分加算する\n",
    "- すべての特徴量にscale分乗算する"
   ]
  },
  {
   "cell_type": "code",
   "execution_count": 16,
   "metadata": {},
   "outputs": [],
   "source": [
    "# Randomly shift and scale\n",
    "if shift is None:\n",
    "    shift = (2 * generator.rand(n_features) - 1) * class_sep\n",
    "X += shift\n",
    "\n",
    "if scale is None:\n",
    "    scale = 1 + 100 * generator.rand(n_features)\n",
    "X *= scale"
   ]
  },
  {
   "cell_type": "markdown",
   "metadata": {},
   "source": [
    "行と列をシャッフルする\n",
    "- レコードの順序をシャッフルする（行方向）\n",
    "- 特徴量の順序をシャッフルする（列方向）"
   ]
  },
  {
   "cell_type": "code",
   "execution_count": 17,
   "metadata": {},
   "outputs": [],
   "source": [
    "if shuffle:\n",
    "    # Randomly permute samples\n",
    "    X, y = util_shuffle(X, y, random_state=generator)\n",
    "\n",
    "    # Randomly permute features\n",
    "    indices = np.arange(n_features)\n",
    "    generator.shuffle(indices)\n",
    "    X[:, :] = X[:, indices]"
   ]
  }
 ],
 "metadata": {
  "kernelspec": {
   "display_name": "Python 3",
   "language": "python",
   "name": "python3"
  },
  "language_info": {
   "codemirror_mode": {
    "name": "ipython",
    "version": 3
   },
   "file_extension": ".py",
   "mimetype": "text/x-python",
   "name": "python",
   "nbconvert_exporter": "python",
   "pygments_lexer": "ipython3",
   "version": "3.6.4"
  }
 },
 "nbformat": 4,
 "nbformat_minor": 1
}
